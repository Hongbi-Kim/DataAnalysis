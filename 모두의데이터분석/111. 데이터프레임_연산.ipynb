{
 "cells": [
  {
   "cell_type": "markdown",
   "id": "02f59757",
   "metadata": {},
   "source": [
    "### 날짜 형태 인덱스 만들기"
   ]
  },
  {
   "cell_type": "code",
   "execution_count": 4,
   "id": "395655d5",
   "metadata": {},
   "outputs": [],
   "source": [
    "import pandas as pd\n",
    "import numpy as np"
   ]
  },
  {
   "cell_type": "code",
   "execution_count": 2,
   "id": "3435cde0",
   "metadata": {},
   "outputs": [
    {
     "name": "stdout",
     "output_type": "stream",
     "text": [
      "DatetimeIndex(['2000-01-01', '2000-01-02', '2000-01-03', '2000-01-04',\n",
      "               '2000-01-05', '2000-01-06', '2000-01-07', '2000-01-08'],\n",
      "              dtype='datetime64[ns]', freq='D')\n"
     ]
    }
   ],
   "source": [
    "index = pd.date_range('1/1/2000', periods=8)\n",
    "print(index)"
   ]
  },
  {
   "cell_type": "code",
   "execution_count": 5,
   "id": "26171b36",
   "metadata": {},
   "outputs": [
    {
     "data": {
      "text/html": [
       "<div>\n",
       "<style scoped>\n",
       "    .dataframe tbody tr th:only-of-type {\n",
       "        vertical-align: middle;\n",
       "    }\n",
       "\n",
       "    .dataframe tbody tr th {\n",
       "        vertical-align: top;\n",
       "    }\n",
       "\n",
       "    .dataframe thead th {\n",
       "        text-align: right;\n",
       "    }\n",
       "</style>\n",
       "<table border=\"1\" class=\"dataframe\">\n",
       "  <thead>\n",
       "    <tr style=\"text-align: right;\">\n",
       "      <th></th>\n",
       "      <th>A</th>\n",
       "      <th>B</th>\n",
       "      <th>C</th>\n",
       "    </tr>\n",
       "  </thead>\n",
       "  <tbody>\n",
       "    <tr>\n",
       "      <th>2000-01-01</th>\n",
       "      <td>0.231332</td>\n",
       "      <td>0.335588</td>\n",
       "      <td>0.567919</td>\n",
       "    </tr>\n",
       "    <tr>\n",
       "      <th>2000-01-02</th>\n",
       "      <td>0.201709</td>\n",
       "      <td>0.719200</td>\n",
       "      <td>0.798835</td>\n",
       "    </tr>\n",
       "    <tr>\n",
       "      <th>2000-01-03</th>\n",
       "      <td>0.777624</td>\n",
       "      <td>0.612490</td>\n",
       "      <td>0.613980</td>\n",
       "    </tr>\n",
       "    <tr>\n",
       "      <th>2000-01-04</th>\n",
       "      <td>0.748406</td>\n",
       "      <td>0.387509</td>\n",
       "      <td>0.141696</td>\n",
       "    </tr>\n",
       "    <tr>\n",
       "      <th>2000-01-05</th>\n",
       "      <td>0.532510</td>\n",
       "      <td>0.712166</td>\n",
       "      <td>0.788312</td>\n",
       "    </tr>\n",
       "    <tr>\n",
       "      <th>2000-01-06</th>\n",
       "      <td>0.157570</td>\n",
       "      <td>0.653054</td>\n",
       "      <td>0.001115</td>\n",
       "    </tr>\n",
       "    <tr>\n",
       "      <th>2000-01-07</th>\n",
       "      <td>0.261851</td>\n",
       "      <td>0.652832</td>\n",
       "      <td>0.948507</td>\n",
       "    </tr>\n",
       "    <tr>\n",
       "      <th>2000-01-08</th>\n",
       "      <td>0.313066</td>\n",
       "      <td>0.247790</td>\n",
       "      <td>0.648090</td>\n",
       "    </tr>\n",
       "  </tbody>\n",
       "</table>\n",
       "</div>"
      ],
      "text/plain": [
       "                   A         B         C\n",
       "2000-01-01  0.231332  0.335588  0.567919\n",
       "2000-01-02  0.201709  0.719200  0.798835\n",
       "2000-01-03  0.777624  0.612490  0.613980\n",
       "2000-01-04  0.748406  0.387509  0.141696\n",
       "2000-01-05  0.532510  0.712166  0.788312\n",
       "2000-01-06  0.157570  0.653054  0.001115\n",
       "2000-01-07  0.261851  0.652832  0.948507\n",
       "2000-01-08  0.313066  0.247790  0.648090"
      ]
     },
     "execution_count": 5,
     "metadata": {},
     "output_type": "execute_result"
    }
   ],
   "source": [
    "# 8행 3열로 구성된 랜덤 데이터 생성\n",
    "df = pd.DataFrame(np.random.rand(8,3), index=index, columns=list('ABC'))\n",
    "df"
   ]
  },
  {
   "cell_type": "code",
   "execution_count": 7,
   "id": "a1d1a430",
   "metadata": {},
   "outputs": [
    {
     "name": "stdout",
     "output_type": "stream",
     "text": [
      "2000-01-01    0.335588\n",
      "2000-01-02    0.719200\n",
      "2000-01-03    0.612490\n",
      "2000-01-04    0.387509\n",
      "2000-01-05    0.712166\n",
      "2000-01-06    0.653054\n",
      "2000-01-07    0.652832\n",
      "2000-01-08    0.247790\n",
      "Freq: D, Name: B, dtype: float64\n"
     ]
    }
   ],
   "source": [
    "print(df['B'])"
   ]
  },
  {
   "cell_type": "code",
   "execution_count": 8,
   "id": "ee06a26c",
   "metadata": {},
   "outputs": [
    {
     "name": "stdout",
     "output_type": "stream",
     "text": [
      "2000-01-01    False\n",
      "2000-01-02     True\n",
      "2000-01-03     True\n",
      "2000-01-04    False\n",
      "2000-01-05     True\n",
      "2000-01-06     True\n",
      "2000-01-07     True\n",
      "2000-01-08    False\n",
      "Freq: D, Name: B, dtype: bool\n"
     ]
    }
   ],
   "source": [
    "print(df['B'] > 0.4)"
   ]
  },
  {
   "cell_type": "code",
   "execution_count": 9,
   "id": "f7fcc09e",
   "metadata": {},
   "outputs": [
    {
     "data": {
      "text/html": [
       "<div>\n",
       "<style scoped>\n",
       "    .dataframe tbody tr th:only-of-type {\n",
       "        vertical-align: middle;\n",
       "    }\n",
       "\n",
       "    .dataframe tbody tr th {\n",
       "        vertical-align: top;\n",
       "    }\n",
       "\n",
       "    .dataframe thead th {\n",
       "        text-align: right;\n",
       "    }\n",
       "</style>\n",
       "<table border=\"1\" class=\"dataframe\">\n",
       "  <thead>\n",
       "    <tr style=\"text-align: right;\">\n",
       "      <th></th>\n",
       "      <th>A</th>\n",
       "      <th>B</th>\n",
       "      <th>C</th>\n",
       "    </tr>\n",
       "  </thead>\n",
       "  <tbody>\n",
       "    <tr>\n",
       "      <th>2000-01-02</th>\n",
       "      <td>0.201709</td>\n",
       "      <td>0.719200</td>\n",
       "      <td>0.798835</td>\n",
       "    </tr>\n",
       "    <tr>\n",
       "      <th>2000-01-03</th>\n",
       "      <td>0.777624</td>\n",
       "      <td>0.612490</td>\n",
       "      <td>0.613980</td>\n",
       "    </tr>\n",
       "    <tr>\n",
       "      <th>2000-01-05</th>\n",
       "      <td>0.532510</td>\n",
       "      <td>0.712166</td>\n",
       "      <td>0.788312</td>\n",
       "    </tr>\n",
       "    <tr>\n",
       "      <th>2000-01-06</th>\n",
       "      <td>0.157570</td>\n",
       "      <td>0.653054</td>\n",
       "      <td>0.001115</td>\n",
       "    </tr>\n",
       "    <tr>\n",
       "      <th>2000-01-07</th>\n",
       "      <td>0.261851</td>\n",
       "      <td>0.652832</td>\n",
       "      <td>0.948507</td>\n",
       "    </tr>\n",
       "  </tbody>\n",
       "</table>\n",
       "</div>"
      ],
      "text/plain": [
       "                   A         B         C\n",
       "2000-01-02  0.201709  0.719200  0.798835\n",
       "2000-01-03  0.777624  0.612490  0.613980\n",
       "2000-01-05  0.532510  0.712166  0.788312\n",
       "2000-01-06  0.157570  0.653054  0.001115\n",
       "2000-01-07  0.261851  0.652832  0.948507"
      ]
     },
     "execution_count": 9,
     "metadata": {},
     "output_type": "execute_result"
    }
   ],
   "source": [
    "df2 = df[df['B'] > 0.4]\n",
    "df2"
   ]
  },
  {
   "cell_type": "code",
   "execution_count": 10,
   "id": "a60901dd",
   "metadata": {},
   "outputs": [
    {
     "data": {
      "text/html": [
       "<div>\n",
       "<style scoped>\n",
       "    .dataframe tbody tr th:only-of-type {\n",
       "        vertical-align: middle;\n",
       "    }\n",
       "\n",
       "    .dataframe tbody tr th {\n",
       "        vertical-align: top;\n",
       "    }\n",
       "\n",
       "    .dataframe thead th {\n",
       "        text-align: right;\n",
       "    }\n",
       "</style>\n",
       "<table border=\"1\" class=\"dataframe\">\n",
       "  <thead>\n",
       "    <tr style=\"text-align: right;\">\n",
       "      <th></th>\n",
       "      <th>2000-01-02</th>\n",
       "      <th>2000-01-03</th>\n",
       "      <th>2000-01-05</th>\n",
       "      <th>2000-01-06</th>\n",
       "      <th>2000-01-07</th>\n",
       "    </tr>\n",
       "  </thead>\n",
       "  <tbody>\n",
       "    <tr>\n",
       "      <th>A</th>\n",
       "      <td>0.201709</td>\n",
       "      <td>0.777624</td>\n",
       "      <td>0.532510</td>\n",
       "      <td>0.157570</td>\n",
       "      <td>0.261851</td>\n",
       "    </tr>\n",
       "    <tr>\n",
       "      <th>B</th>\n",
       "      <td>0.719200</td>\n",
       "      <td>0.612490</td>\n",
       "      <td>0.712166</td>\n",
       "      <td>0.653054</td>\n",
       "      <td>0.652832</td>\n",
       "    </tr>\n",
       "    <tr>\n",
       "      <th>C</th>\n",
       "      <td>0.798835</td>\n",
       "      <td>0.613980</td>\n",
       "      <td>0.788312</td>\n",
       "      <td>0.001115</td>\n",
       "      <td>0.948507</td>\n",
       "    </tr>\n",
       "  </tbody>\n",
       "</table>\n",
       "</div>"
      ],
      "text/plain": [
       "   2000-01-02  2000-01-03  2000-01-05  2000-01-06  2000-01-07\n",
       "A    0.201709    0.777624    0.532510    0.157570    0.261851\n",
       "B    0.719200    0.612490    0.712166    0.653054    0.652832\n",
       "C    0.798835    0.613980    0.788312    0.001115    0.948507"
      ]
     },
     "execution_count": 10,
     "metadata": {},
     "output_type": "execute_result"
    }
   ],
   "source": [
    "df2.T"
   ]
  },
  {
   "cell_type": "markdown",
   "id": "9ac23f0f",
   "metadata": {},
   "source": [
    "### 행 방향 축을 기준으로 한 연산"
   ]
  },
  {
   "cell_type": "markdown",
   "id": "ba660111",
   "metadata": {},
   "source": [
    "- A열 값을 B열 값으로 나눈 후, 그 결과를 D열에 저장"
   ]
  },
  {
   "cell_type": "code",
   "execution_count": 11,
   "id": "b62550c3",
   "metadata": {},
   "outputs": [
    {
     "data": {
      "text/html": [
       "<div>\n",
       "<style scoped>\n",
       "    .dataframe tbody tr th:only-of-type {\n",
       "        vertical-align: middle;\n",
       "    }\n",
       "\n",
       "    .dataframe tbody tr th {\n",
       "        vertical-align: top;\n",
       "    }\n",
       "\n",
       "    .dataframe thead th {\n",
       "        text-align: right;\n",
       "    }\n",
       "</style>\n",
       "<table border=\"1\" class=\"dataframe\">\n",
       "  <thead>\n",
       "    <tr style=\"text-align: right;\">\n",
       "      <th></th>\n",
       "      <th>A</th>\n",
       "      <th>B</th>\n",
       "      <th>C</th>\n",
       "      <th>D</th>\n",
       "    </tr>\n",
       "  </thead>\n",
       "  <tbody>\n",
       "    <tr>\n",
       "      <th>2000-01-01</th>\n",
       "      <td>0.231332</td>\n",
       "      <td>0.335588</td>\n",
       "      <td>0.567919</td>\n",
       "      <td>0.689332</td>\n",
       "    </tr>\n",
       "    <tr>\n",
       "      <th>2000-01-02</th>\n",
       "      <td>0.201709</td>\n",
       "      <td>0.719200</td>\n",
       "      <td>0.798835</td>\n",
       "      <td>0.280462</td>\n",
       "    </tr>\n",
       "    <tr>\n",
       "      <th>2000-01-03</th>\n",
       "      <td>0.777624</td>\n",
       "      <td>0.612490</td>\n",
       "      <td>0.613980</td>\n",
       "      <td>1.269612</td>\n",
       "    </tr>\n",
       "    <tr>\n",
       "      <th>2000-01-04</th>\n",
       "      <td>0.748406</td>\n",
       "      <td>0.387509</td>\n",
       "      <td>0.141696</td>\n",
       "      <td>1.931323</td>\n",
       "    </tr>\n",
       "    <tr>\n",
       "      <th>2000-01-05</th>\n",
       "      <td>0.532510</td>\n",
       "      <td>0.712166</td>\n",
       "      <td>0.788312</td>\n",
       "      <td>0.747733</td>\n",
       "    </tr>\n",
       "    <tr>\n",
       "      <th>2000-01-06</th>\n",
       "      <td>0.157570</td>\n",
       "      <td>0.653054</td>\n",
       "      <td>0.001115</td>\n",
       "      <td>0.241281</td>\n",
       "    </tr>\n",
       "    <tr>\n",
       "      <th>2000-01-07</th>\n",
       "      <td>0.261851</td>\n",
       "      <td>0.652832</td>\n",
       "      <td>0.948507</td>\n",
       "      <td>0.401100</td>\n",
       "    </tr>\n",
       "    <tr>\n",
       "      <th>2000-01-08</th>\n",
       "      <td>0.313066</td>\n",
       "      <td>0.247790</td>\n",
       "      <td>0.648090</td>\n",
       "      <td>1.263430</td>\n",
       "    </tr>\n",
       "  </tbody>\n",
       "</table>\n",
       "</div>"
      ],
      "text/plain": [
       "                   A         B         C         D\n",
       "2000-01-01  0.231332  0.335588  0.567919  0.689332\n",
       "2000-01-02  0.201709  0.719200  0.798835  0.280462\n",
       "2000-01-03  0.777624  0.612490  0.613980  1.269612\n",
       "2000-01-04  0.748406  0.387509  0.141696  1.931323\n",
       "2000-01-05  0.532510  0.712166  0.788312  0.747733\n",
       "2000-01-06  0.157570  0.653054  0.001115  0.241281\n",
       "2000-01-07  0.261851  0.652832  0.948507  0.401100\n",
       "2000-01-08  0.313066  0.247790  0.648090  1.263430"
      ]
     },
     "execution_count": 11,
     "metadata": {},
     "output_type": "execute_result"
    }
   ],
   "source": [
    "df['D'] = df['A']/df['B']\n",
    "df"
   ]
  },
  {
   "cell_type": "markdown",
   "id": "0e1a6ad1",
   "metadata": {},
   "source": [
    "### 행 방향 축을 기준으로 한 연산"
   ]
  },
  {
   "cell_type": "markdown",
   "id": "7a80a26a",
   "metadata": {},
   "source": [
    "- 행 우선 합을 E열에 저장"
   ]
  },
  {
   "cell_type": "code",
   "execution_count": 12,
   "id": "5a62912a",
   "metadata": {},
   "outputs": [
    {
     "data": {
      "text/html": [
       "<div>\n",
       "<style scoped>\n",
       "    .dataframe tbody tr th:only-of-type {\n",
       "        vertical-align: middle;\n",
       "    }\n",
       "\n",
       "    .dataframe tbody tr th {\n",
       "        vertical-align: top;\n",
       "    }\n",
       "\n",
       "    .dataframe thead th {\n",
       "        text-align: right;\n",
       "    }\n",
       "</style>\n",
       "<table border=\"1\" class=\"dataframe\">\n",
       "  <thead>\n",
       "    <tr style=\"text-align: right;\">\n",
       "      <th></th>\n",
       "      <th>A</th>\n",
       "      <th>B</th>\n",
       "      <th>C</th>\n",
       "      <th>D</th>\n",
       "      <th>E</th>\n",
       "    </tr>\n",
       "  </thead>\n",
       "  <tbody>\n",
       "    <tr>\n",
       "      <th>2000-01-01</th>\n",
       "      <td>0.231332</td>\n",
       "      <td>0.335588</td>\n",
       "      <td>0.567919</td>\n",
       "      <td>0.689332</td>\n",
       "      <td>1.824170</td>\n",
       "    </tr>\n",
       "    <tr>\n",
       "      <th>2000-01-02</th>\n",
       "      <td>0.201709</td>\n",
       "      <td>0.719200</td>\n",
       "      <td>0.798835</td>\n",
       "      <td>0.280462</td>\n",
       "      <td>2.000206</td>\n",
       "    </tr>\n",
       "    <tr>\n",
       "      <th>2000-01-03</th>\n",
       "      <td>0.777624</td>\n",
       "      <td>0.612490</td>\n",
       "      <td>0.613980</td>\n",
       "      <td>1.269612</td>\n",
       "      <td>3.273705</td>\n",
       "    </tr>\n",
       "    <tr>\n",
       "      <th>2000-01-04</th>\n",
       "      <td>0.748406</td>\n",
       "      <td>0.387509</td>\n",
       "      <td>0.141696</td>\n",
       "      <td>1.931323</td>\n",
       "      <td>3.208935</td>\n",
       "    </tr>\n",
       "    <tr>\n",
       "      <th>2000-01-05</th>\n",
       "      <td>0.532510</td>\n",
       "      <td>0.712166</td>\n",
       "      <td>0.788312</td>\n",
       "      <td>0.747733</td>\n",
       "      <td>2.780721</td>\n",
       "    </tr>\n",
       "  </tbody>\n",
       "</table>\n",
       "</div>"
      ],
      "text/plain": [
       "                   A         B         C         D         E\n",
       "2000-01-01  0.231332  0.335588  0.567919  0.689332  1.824170\n",
       "2000-01-02  0.201709  0.719200  0.798835  0.280462  2.000206\n",
       "2000-01-03  0.777624  0.612490  0.613980  1.269612  3.273705\n",
       "2000-01-04  0.748406  0.387509  0.141696  1.931323  3.208935\n",
       "2000-01-05  0.532510  0.712166  0.788312  0.747733  2.780721"
      ]
     },
     "execution_count": 12,
     "metadata": {},
     "output_type": "execute_result"
    }
   ],
   "source": [
    "df['E'] = np.sum(df, axis=1)\n",
    "df.head()"
   ]
  },
  {
   "cell_type": "markdown",
   "id": "f99007d7",
   "metadata": {},
   "source": [
    "### 전체 데이터 연산"
   ]
  },
  {
   "cell_type": "code",
   "execution_count": 14,
   "id": "81cd9196",
   "metadata": {},
   "outputs": [
    {
     "data": {
      "text/html": [
       "<div>\n",
       "<style scoped>\n",
       "    .dataframe tbody tr th:only-of-type {\n",
       "        vertical-align: middle;\n",
       "    }\n",
       "\n",
       "    .dataframe tbody tr th {\n",
       "        vertical-align: top;\n",
       "    }\n",
       "\n",
       "    .dataframe thead th {\n",
       "        text-align: right;\n",
       "    }\n",
       "</style>\n",
       "<table border=\"1\" class=\"dataframe\">\n",
       "  <thead>\n",
       "    <tr style=\"text-align: right;\">\n",
       "      <th></th>\n",
       "      <th>A</th>\n",
       "      <th>B</th>\n",
       "      <th>C</th>\n",
       "      <th>D</th>\n",
       "      <th>E</th>\n",
       "    </tr>\n",
       "  </thead>\n",
       "  <tbody>\n",
       "    <tr>\n",
       "      <th>2000-01-01</th>\n",
       "      <td>0.0</td>\n",
       "      <td>0.104256</td>\n",
       "      <td>0.336587</td>\n",
       "      <td>0.458001</td>\n",
       "      <td>1.592839</td>\n",
       "    </tr>\n",
       "    <tr>\n",
       "      <th>2000-01-02</th>\n",
       "      <td>0.0</td>\n",
       "      <td>0.517491</td>\n",
       "      <td>0.597127</td>\n",
       "      <td>0.078754</td>\n",
       "      <td>1.798498</td>\n",
       "    </tr>\n",
       "    <tr>\n",
       "      <th>2000-01-03</th>\n",
       "      <td>0.0</td>\n",
       "      <td>-0.165134</td>\n",
       "      <td>-0.163644</td>\n",
       "      <td>0.491988</td>\n",
       "      <td>2.496081</td>\n",
       "    </tr>\n",
       "    <tr>\n",
       "      <th>2000-01-04</th>\n",
       "      <td>0.0</td>\n",
       "      <td>-0.360897</td>\n",
       "      <td>-0.606709</td>\n",
       "      <td>1.182918</td>\n",
       "      <td>2.460529</td>\n",
       "    </tr>\n",
       "    <tr>\n",
       "      <th>2000-01-05</th>\n",
       "      <td>0.0</td>\n",
       "      <td>0.179656</td>\n",
       "      <td>0.255803</td>\n",
       "      <td>0.215223</td>\n",
       "      <td>2.248211</td>\n",
       "    </tr>\n",
       "  </tbody>\n",
       "</table>\n",
       "</div>"
      ],
      "text/plain": [
       "              A         B         C         D         E\n",
       "2000-01-01  0.0  0.104256  0.336587  0.458001  1.592839\n",
       "2000-01-02  0.0  0.517491  0.597127  0.078754  1.798498\n",
       "2000-01-03  0.0 -0.165134 -0.163644  0.491988  2.496081\n",
       "2000-01-04  0.0 -0.360897 -0.606709  1.182918  2.460529\n",
       "2000-01-05  0.0  0.179656  0.255803  0.215223  2.248211"
      ]
     },
     "execution_count": 14,
     "metadata": {},
     "output_type": "execute_result"
    }
   ],
   "source": [
    "# A열의 데이터를 기준으로, A열의 값으로 뺌\n",
    "df = df.sub(df['A'],axis=0)\n",
    "df.head()"
   ]
  },
  {
   "cell_type": "code",
   "execution_count": 15,
   "id": "0e867245",
   "metadata": {},
   "outputs": [
    {
     "data": {
      "text/html": [
       "<div>\n",
       "<style scoped>\n",
       "    .dataframe tbody tr th:only-of-type {\n",
       "        vertical-align: middle;\n",
       "    }\n",
       "\n",
       "    .dataframe tbody tr th {\n",
       "        vertical-align: top;\n",
       "    }\n",
       "\n",
       "    .dataframe thead th {\n",
       "        text-align: right;\n",
       "    }\n",
       "</style>\n",
       "<table border=\"1\" class=\"dataframe\">\n",
       "  <thead>\n",
       "    <tr style=\"text-align: right;\">\n",
       "      <th></th>\n",
       "      <th>A</th>\n",
       "      <th>B</th>\n",
       "      <th>C</th>\n",
       "      <th>D</th>\n",
       "      <th>E</th>\n",
       "    </tr>\n",
       "  </thead>\n",
       "  <tbody>\n",
       "    <tr>\n",
       "      <th>2000-01-01</th>\n",
       "      <td>0.0</td>\n",
       "      <td>0.309745</td>\n",
       "      <td>1.0</td>\n",
       "      <td>1.360719</td>\n",
       "      <td>4.732321</td>\n",
       "    </tr>\n",
       "    <tr>\n",
       "      <th>2000-01-02</th>\n",
       "      <td>0.0</td>\n",
       "      <td>0.866635</td>\n",
       "      <td>1.0</td>\n",
       "      <td>0.131888</td>\n",
       "      <td>3.011919</td>\n",
       "    </tr>\n",
       "    <tr>\n",
       "      <th>2000-01-03</th>\n",
       "      <td>-0.0</td>\n",
       "      <td>1.009107</td>\n",
       "      <td>1.0</td>\n",
       "      <td>-3.006449</td>\n",
       "      <td>-15.253102</td>\n",
       "    </tr>\n",
       "    <tr>\n",
       "      <th>2000-01-04</th>\n",
       "      <td>-0.0</td>\n",
       "      <td>0.594843</td>\n",
       "      <td>1.0</td>\n",
       "      <td>-1.949727</td>\n",
       "      <td>-4.055532</td>\n",
       "    </tr>\n",
       "    <tr>\n",
       "      <th>2000-01-05</th>\n",
       "      <td>0.0</td>\n",
       "      <td>0.702322</td>\n",
       "      <td>1.0</td>\n",
       "      <td>0.841365</td>\n",
       "      <td>8.788853</td>\n",
       "    </tr>\n",
       "  </tbody>\n",
       "</table>\n",
       "</div>"
      ],
      "text/plain": [
       "              A         B    C         D          E\n",
       "2000-01-01  0.0  0.309745  1.0  1.360719   4.732321\n",
       "2000-01-02  0.0  0.866635  1.0  0.131888   3.011919\n",
       "2000-01-03 -0.0  1.009107  1.0 -3.006449 -15.253102\n",
       "2000-01-04 -0.0  0.594843  1.0 -1.949727  -4.055532\n",
       "2000-01-05  0.0  0.702322  1.0  0.841365   8.788853"
      ]
     },
     "execution_count": 15,
     "metadata": {},
     "output_type": "execute_result"
    }
   ],
   "source": [
    "df = df.div(df['C'],axis=0)\n",
    "df.head()"
   ]
  },
  {
   "cell_type": "code",
   "execution_count": 16,
   "id": "c58ba85b",
   "metadata": {},
   "outputs": [],
   "source": [
    "df.to_csv('text_csv')"
   ]
  },
  {
   "cell_type": "code",
   "execution_count": null,
   "id": "3732c992",
   "metadata": {},
   "outputs": [],
   "source": []
  }
 ],
 "metadata": {
  "kernelspec": {
   "display_name": "Python 3",
   "language": "python",
   "name": "python3"
  },
  "language_info": {
   "codemirror_mode": {
    "name": "ipython",
    "version": 3
   },
   "file_extension": ".py",
   "mimetype": "text/x-python",
   "name": "python",
   "nbconvert_exporter": "python",
   "pygments_lexer": "ipython3",
   "version": "3.8.8"
  }
 },
 "nbformat": 4,
 "nbformat_minor": 5
}
