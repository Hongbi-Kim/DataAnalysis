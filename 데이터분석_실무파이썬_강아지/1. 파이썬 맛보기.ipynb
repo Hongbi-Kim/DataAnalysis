{
 "cells": [
  {
   "cell_type": "markdown",
   "id": "ee688656",
   "metadata": {},
   "source": [
    "### 1. 파이썬 코드 입력 및 실행"
   ]
  },
  {
   "cell_type": "code",
   "execution_count": 1,
   "id": "0ad1c253",
   "metadata": {},
   "outputs": [
    {
     "name": "stdout",
     "output_type": "stream",
     "text": [
      "안녕하세요\n"
     ]
    }
   ],
   "source": [
    "print('안녕하세요')"
   ]
  },
  {
   "cell_type": "code",
   "execution_count": 2,
   "id": "3314490c",
   "metadata": {},
   "outputs": [
    {
     "name": "stdout",
     "output_type": "stream",
     "text": [
      "Hi\n"
     ]
    }
   ],
   "source": [
    "print('Hi')\n",
    "# 주석 : # 뒤에 나온 부분은 주석으로 실행되지 않습니다."
   ]
  },
  {
   "cell_type": "markdown",
   "id": "9b60a4d7",
   "metadata": {},
   "source": [
    "### 2. 값 입력 및 출력"
   ]
  },
  {
   "cell_type": "code",
   "execution_count": 3,
   "id": "62a59044",
   "metadata": {},
   "outputs": [],
   "source": [
    "# 값 입력 및 출력\n",
    "# 변수명 = 값\n",
    "a = 9\n",
    "b = 5"
   ]
  },
  {
   "cell_type": "code",
   "execution_count": 4,
   "id": "cc0dc3f1",
   "metadata": {},
   "outputs": [
    {
     "name": "stdout",
     "output_type": "stream",
     "text": [
      "14\n",
      "4\n",
      "45\n",
      "1.8\n",
      "1\n",
      "4\n"
     ]
    }
   ],
   "source": [
    "# 사칙연산\n",
    "print(a+b)\n",
    "print(a-b)\n",
    "print(a*b)\n",
    "print(a/b)\n",
    "print(a//b) # 몫\n",
    "print(a%b)  # 나머지"
   ]
  },
  {
   "cell_type": "code",
   "execution_count": 5,
   "id": "0645f49a",
   "metadata": {},
   "outputs": [
    {
     "name": "stdout",
     "output_type": "stream",
     "text": [
      "파이썬 데이터분석입문 PlaywithData 데이터수집\n"
     ]
    }
   ],
   "source": [
    "# 변수를 여러 개 출력\n",
    "print('파이썬','데이터분석입문','PlaywithData','데이터수집')"
   ]
  },
  {
   "cell_type": "code",
   "execution_count": 6,
   "id": "bb5d6b54",
   "metadata": {},
   "outputs": [
    {
     "name": "stdout",
     "output_type": "stream",
     "text": [
      "귤 / 사과 / 배\n"
     ]
    }
   ],
   "source": [
    "# 구분 기호를 사용해 변수를 여러 개 출력\n",
    "print('귤','사과','배', sep=' / ')"
   ]
  },
  {
   "cell_type": "markdown",
   "id": "63eccd3e",
   "metadata": {},
   "source": [
    "### 3. 리스트"
   ]
  },
  {
   "cell_type": "code",
   "execution_count": 7,
   "id": "a2eb054c",
   "metadata": {},
   "outputs": [
    {
     "name": "stdout",
     "output_type": "stream",
     "text": [
      "1번 2번 3번 4번 5번 6번 7번 8번 9번 10번\n",
      "['1번', '2번', '3번', '4번', '5번', '6번', '7번', '8번', '9번', '10번']\n"
     ]
    }
   ],
   "source": [
    "# 리스트\n",
    "# 리스트명 = [원소1, 원소2, 원소3, ...]\n",
    "print('1번','2번','3번','4번','5번','6번','7번','8번','9번','10번')\n",
    "class_2_1 = ['1번','2번','3번','4번','5번','6번','7번','8번','9번','10번']\n",
    "print(class_2_1)"
   ]
  },
  {
   "cell_type": "code",
   "execution_count": 9,
   "id": "6155ea0e",
   "metadata": {},
   "outputs": [
    {
     "name": "stdout",
     "output_type": "stream",
     "text": [
      "b\n"
     ]
    }
   ],
   "source": [
    "# 인덱스 번호 활용\n",
    "k    =  ['a','b','c','d','e']\n",
    "#index    0   1   2   3   4\n",
    "#index   -5  -4  -3  -2  -1\n",
    "print(k[1])"
   ]
  },
  {
   "cell_type": "code",
   "execution_count": 10,
   "id": "f13effb7",
   "metadata": {},
   "outputs": [
    {
     "name": "stdout",
     "output_type": "stream",
     "text": [
      "['b', 'c']\n",
      "['b', 'c']\n"
     ]
    }
   ],
   "source": [
    "#list [인덱스시작번호 : 끝 다음 번호]\n",
    "k    =  ['a','b','c','d','e']\n",
    "#index    0   1   2   3   4\n",
    "#index   -5  -4  -3  -2  -1\n",
    "print(k[1:3])\n",
    "print(k[-4:-2])"
   ]
  },
  {
   "cell_type": "code",
   "execution_count": 11,
   "id": "441e6158",
   "metadata": {},
   "outputs": [
    {
     "name": "stdout",
     "output_type": "stream",
     "text": [
      "['a', 'b', 'c', 'e']\n",
      "['b', 'c', 'e', 'a']\n"
     ]
    }
   ],
   "source": [
    "# 리스트 합치기 : 리스트1 + 리스트2\n",
    "l1 = ['a']\n",
    "l2 = ['b','c','e']\n",
    "print(l1 + l2)\n",
    "print(l2 + l1)"
   ]
  },
  {
   "cell_type": "code",
   "execution_count": 12,
   "id": "e23b0729",
   "metadata": {},
   "outputs": [
    {
     "name": "stdout",
     "output_type": "stream",
     "text": [
      "['a', ['b', 'c', 'e']]\n"
     ]
    }
   ],
   "source": [
    "# 리스트 추가하기 : 리스트.append(리스트2)\n",
    "l1 = ['a']\n",
    "l2 = ['b','c','e']\n",
    "l1.append(l2)\n",
    "print(l1)"
   ]
  },
  {
   "cell_type": "markdown",
   "id": "1544e47f",
   "metadata": {},
   "source": [
    "### 4. 반복문"
   ]
  },
  {
   "cell_type": "code",
   "execution_count": 13,
   "id": "341d0f7f",
   "metadata": {},
   "outputs": [
    {
     "name": "stdout",
     "output_type": "stream",
     "text": [
      "바나나\n",
      "사과\n",
      "딸기\n",
      "배\n",
      "감\n"
     ]
    }
   ],
   "source": [
    "# 반복문\n",
    "fruits = ['바나나','사과','딸기','배','감']\n",
    "for fruit in fruits:\n",
    "    print(fruit)"
   ]
  },
  {
   "cell_type": "markdown",
   "id": "a92bccdd",
   "metadata": {},
   "source": [
    "### 5. 문자열"
   ]
  },
  {
   "cell_type": "code",
   "execution_count": 14,
   "id": "fea7e33c",
   "metadata": {},
   "outputs": [
    {
     "name": "stdout",
     "output_type": "stream",
     "text": [
      "문자열\n"
     ]
    }
   ],
   "source": [
    "# 문자열\n",
    "s = '문자열'\n",
    "print(s)"
   ]
  },
  {
   "cell_type": "code",
   "execution_count": 15,
   "id": "abe31f63",
   "metadata": {},
   "outputs": [
    {
     "name": "stdout",
     "output_type": "stream",
     "text": [
      "사과망고, 파인애플\n"
     ]
    }
   ],
   "source": [
    "# 문자열 합치기 : +\n",
    "a = '사과'\n",
    "b = '망고, 파인애플'\n",
    "ab = a + b\n",
    "print(ab)"
   ]
  },
  {
   "cell_type": "code",
   "execution_count": 16,
   "id": "f609e83a",
   "metadata": {},
   "outputs": [
    {
     "name": "stdout",
     "output_type": "stream",
     "text": [
      "**********\n"
     ]
    }
   ],
   "source": [
    "# 문자열 반복 : *\n",
    "z = \"*\"\n",
    "print(z * 10)"
   ]
  },
  {
   "cell_type": "code",
   "execution_count": 17,
   "id": "8db13b31",
   "metadata": {},
   "outputs": [
    {
     "name": "stdout",
     "output_type": "stream",
     "text": [
      "2월 20일은 일요일입니다.\n"
     ]
    }
   ],
   "source": [
    "# 문자열 포매팅\n",
    "# 변수의 값에 다라 문자열이 변하도록 만들기\n",
    "month = \"2월\"\n",
    "day = '20일'\n",
    "say = '{} {}은 일요일입니다.'.format(month, day)\n",
    "print(say)"
   ]
  },
  {
   "cell_type": "code",
   "execution_count": 18,
   "id": "8e6d408d",
   "metadata": {},
   "outputs": [
    {
     "name": "stdout",
     "output_type": "stream",
     "text": [
      "다\n",
      "바\n",
      "다라마\n",
      "라마바\n"
     ]
    }
   ],
   "source": [
    "# 문자열에서 일부를 선택 : 인덱스, 슬라이싱\n",
    "k     =  '가나다라마바'\n",
    "#index    0 1 2 3 4 5\n",
    "#index   -6-5-4-3-2-1\n",
    "print(k[2])\n",
    "print(k[-1])\n",
    "print(k[2:5])\n",
    "print(k[3:])"
   ]
  },
  {
   "cell_type": "code",
   "execution_count": 19,
   "id": "388923f5",
   "metadata": {},
   "outputs": [
    {
     "name": "stdout",
     "output_type": "stream",
     "text": [
      "   hp010-0000-0000   \n",
      "hp010-0000-0000\n",
      "010-0000-0000\n",
      "['010', '0000', '0000']\n"
     ]
    }
   ],
   "source": [
    "# 문자열 정리 : strip(), replace(), split() 활용\n",
    "t1 = '   hp010-0000-0000   '\n",
    "print(t1)\n",
    "t2 = t1.strip()   # 공백문자 제거\n",
    "print(t2)\n",
    "t3 = t2.replace('hp','') # 문자 변경\n",
    "print(t3)\n",
    "t4 = t3.split('-') # '-'을 기준으로 문자열 나눔\n",
    "print(t4)"
   ]
  },
  {
   "cell_type": "markdown",
   "id": "34ba47d4",
   "metadata": {},
   "source": [
    "###  6. 조건문"
   ]
  },
  {
   "cell_type": "code",
   "execution_count": 20,
   "id": "101ad2ef",
   "metadata": {},
   "outputs": [
    {
     "name": "stdout",
     "output_type": "stream",
     "text": [
      "비싸다\n"
     ]
    }
   ],
   "source": [
    "# 조건문\n",
    "price = 5000\n",
    "if price > 3000:\n",
    "    print('비싸다')\n",
    "else:\n",
    "    print('저렴하다.')"
   ]
  },
  {
   "cell_type": "markdown",
   "id": "b7251a63",
   "metadata": {},
   "source": [
    "### 7. 함수"
   ]
  },
  {
   "cell_type": "code",
   "execution_count": 21,
   "id": "6a624ef3",
   "metadata": {},
   "outputs": [
    {
     "name": "stdout",
     "output_type": "stream",
     "text": [
      "안녕하세요\n",
      "제 이름은 홍길동 입니다\n"
     ]
    }
   ],
   "source": [
    "# 함수\n",
    "def say_name(name):    # def 함수명(매개변수):\n",
    "    print('안녕하세요')\n",
    "    print('제 이름은 ' + name + ' 입니다')\n",
    "say_name('홍길동')"
   ]
  },
  {
   "cell_type": "code",
   "execution_count": 22,
   "id": "83c85d65",
   "metadata": {},
   "outputs": [
    {
     "name": "stdout",
     "output_type": "stream",
     "text": [
      "1000\n"
     ]
    }
   ],
   "source": [
    "def calcul(a,b):        # def 함수명(변수):\n",
    "    result = a ** b\n",
    "    return result      # 돌려받을 결과 정의\n",
    "test = calcul(10,3)\n",
    "print(test)"
   ]
  },
  {
   "cell_type": "code",
   "execution_count": null,
   "id": "5140dd3c",
   "metadata": {},
   "outputs": [],
   "source": []
  }
 ],
 "metadata": {
  "kernelspec": {
   "display_name": "Python 3",
   "language": "python",
   "name": "python3"
  },
  "language_info": {
   "codemirror_mode": {
    "name": "ipython",
    "version": 3
   },
   "file_extension": ".py",
   "mimetype": "text/x-python",
   "name": "python",
   "nbconvert_exporter": "python",
   "pygments_lexer": "ipython3",
   "version": "3.8.8"
  }
 },
 "nbformat": 4,
 "nbformat_minor": 5
}
