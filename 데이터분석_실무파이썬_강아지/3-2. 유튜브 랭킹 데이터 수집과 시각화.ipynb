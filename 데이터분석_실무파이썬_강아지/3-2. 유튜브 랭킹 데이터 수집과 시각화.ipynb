{
 "cells": [
  {
   "cell_type": "markdown",
   "id": "e9c07381",
   "metadata": {},
   "source": [
    "## 유튜브 랭킹 데이터 수집"
   ]
  },
  {
   "cell_type": "code",
   "execution_count": 1,
   "id": "60cc0360",
   "metadata": {},
   "outputs": [],
   "source": [
    "from selenium import webdriver\n",
    "from selenium.webdriver.chrome.service import Service\n",
    "from bs4 import BeautifulSoup"
   ]
  },
  {
   "cell_type": "code",
   "execution_count": 3,
   "id": "36c4d561",
   "metadata": {},
   "outputs": [],
   "source": [
    "service = Service('chromedriver.exe')\n",
    "driver = webdriver.Chrome(service = service)"
   ]
  },
  {
   "cell_type": "code",
   "execution_count": 4,
   "id": "891d2421",
   "metadata": {},
   "outputs": [],
   "source": [
    "url = \"http://youtube-rank.com/board/bbs/board.php?bo_table=youtube\"\n",
    "driver.get(url)"
   ]
  },
  {
   "cell_type": "code",
   "execution_count": 5,
   "id": "3b58e2e6",
   "metadata": {},
   "outputs": [],
   "source": [
    "html = driver.page_source\n",
    "soup = BeautifulSoup(html, 'html.parser')"
   ]
  },
  {
   "cell_type": "code",
   "execution_count": 36,
   "id": "3dc2ef65",
   "metadata": {
    "scrolled": true
   },
   "outputs": [
    {
     "data": {
      "text/plain": [
       "100"
      ]
     },
     "execution_count": 36,
     "metadata": {},
     "output_type": "execute_result"
    }
   ],
   "source": [
    "channel_list = soup.select('form > table > tbody > tr')\n",
    "len(channel_list)"
   ]
  },
  {
   "cell_type": "code",
   "execution_count": 37,
   "id": "8f30e019",
   "metadata": {
    "scrolled": true
   },
   "outputs": [
    {
     "data": {
      "text/plain": [
       "<tr class=\"aos-init aos-animate\" data-aos=\"fade-up\" data-aos-duration=\"800\">\n",
       "<td class=\"rank\">\n",
       "                        1                    </td>\n",
       "<td class=\"td_img\">\n",
       "<div class=\"info_img\"><a href=\"http://youtube-rank.com/board/bbs/board.php?bo_table=youtube&amp;wr_id=3203\"><img class=\"lazyload\" data-src=\"https://yt3.ggpht.com/ytc/AKedOLSWxQF3kaqYMX1MWVVzNkNZaM-3EU551f2orOqykA=s88-c-k-c0x00ffffff-no-rj-mo\" height=\"88\" src=\"https://yt3.ggpht.com/ytc/AKedOLSWxQF3kaqYMX1MWVVzNkNZaM-3EU551f2orOqykA=s88-c-k-c0x00ffffff-no-rj-mo\" width=\"88\"/></a></div>\n",
       "<p class=\"info_rank\">1</p>\n",
       "</td>\n",
       "<td class=\"subject\">\n",
       "<h1>\n",
       "<p <a=\"\" class=\"category\" href=\"http://youtube-rank.com/board/bbs/board.php?bo_table=youtube&amp;sca=%EC%9D%8C%EC%95%85%2F%EB%8C%84%EC%8A%A4%2F%EA%B0%80%EC%88%98\">[음악/댄스/가수]\n",
       "                                \n",
       "                                </p>\n",
       "<a href=\"http://youtube-rank.com/board/bbs/board.php?bo_table=youtube&amp;wr_id=3203\">\n",
       "\t\t\t\t\t\t\t\t\n",
       "\t\t\t\t\t\t\t\tBLACKPINK\t\t\t\t\t\t\t</a>\n",
       "<span>\n",
       "<i class=\"fa fa-comment\"></i>\n",
       "\t\t\t\t\t\t\t\t1\t\t\t\t\t\t\t</span>\n",
       "<i aria-hidden=\"true\" class=\"fa fa-heart\"></i> </h1>\n",
       "<h2><span><a href=\"http://youtube-rank.com/board/bbs/board.php?bo_table=youtube&amp;wr_id=3203\">\"YG Entertainment\" YG 와이지 K-pop BLACKPINK 블랙핑크 블핑 제니 로제 리사 지수 Lisa Jisoo Jennie ...</a></span></h2>\n",
       "<h3>\n",
       "<i class=\"fa fa-user\"></i>\n",
       "                            7130만<i class=\"fa fa-play\"></i>220억1380만                            <i class=\"fa fa-video-camera\"></i>\n",
       "                            395                            <i class=\"fa fa-eye\"></i>\n",
       "                            18,138                        </h3>\n",
       "</td>\n",
       "<td class=\"subscriber_cnt\">7130만</td>\n",
       "<td class=\"view_cnt\">220억1380만</td>\n",
       "<td class=\"video_cnt\">395개</td>\n",
       "<td class=\"hit\">\n",
       "<strong>18,138</strong>\n",
       "<span>HIT</span>\n",
       "</td>\n",
       "</tr>"
      ]
     },
     "execution_count": 37,
     "metadata": {},
     "output_type": "execute_result"
    }
   ],
   "source": [
    "channel = channel_list[0]\n",
    "channel"
   ]
  },
  {
   "cell_type": "code",
   "execution_count": 42,
   "id": "37c6ead4",
   "metadata": {},
   "outputs": [
    {
     "data": {
      "text/plain": [
       "'[음악/댄스/가수]'"
      ]
     },
     "execution_count": 42,
     "metadata": {},
     "output_type": "execute_result"
    }
   ],
   "source": [
    "# 카테고리\n",
    "category = channel.select('.category')[0].text.strip()\n",
    "category"
   ]
  },
  {
   "cell_type": "code",
   "execution_count": 47,
   "id": "49d9f474",
   "metadata": {},
   "outputs": [
    {
     "data": {
      "text/plain": [
       "'BLACKPINK'"
      ]
     },
     "execution_count": 47,
     "metadata": {},
     "output_type": "execute_result"
    }
   ],
   "source": [
    "# 채널명\n",
    "title = channel.select('h1 > a')[0].text.strip()\n",
    "title"
   ]
  },
  {
   "cell_type": "code",
   "execution_count": 58,
   "id": "8a077fe0",
   "metadata": {},
   "outputs": [
    {
     "name": "stdout",
     "output_type": "stream",
     "text": [
      "7130만\n",
      "220억1380만\n",
      "395개\n"
     ]
    }
   ],
   "source": [
    "# 구독자 수, View 수, 동영상 수\n",
    "subscriber = channel.select('.subscriber_cnt')[0].text\n",
    "view = channel.select('.view_cnt')[0].text\n",
    "video = channel.select('.video_cnt')[0].text\n",
    "print(subscriber)\n",
    "print(view)\n",
    "print(video)"
   ]
  },
  {
   "cell_type": "code",
   "execution_count": 59,
   "id": "9c636e9e",
   "metadata": {
    "scrolled": true
   },
   "outputs": [
    {
     "name": "stdout",
     "output_type": "stream",
     "text": [
      "BLACKPINK [음악/댄스/가수] 7130만 220억1380만 395개\n",
      "HYBE LABELS [음악/댄스/가수] 6360만 209억9925만 786개\n",
      "BANGTANTV [음악/댄스/가수] 6290만 146억5398만 1,665개\n",
      "SMTOWN [음악/댄스/가수] 2970만 234억2536만 3,840개\n",
      "Boram Tube Vlog [보람튜브 브이로그] [키즈/어린이] 2650만 110억5288만 223개\n",
      "1MILLION Dance Studio [음악/댄스/가수] 2470만 70억0346만 3,513개\n",
      "1theK (원더케이) [음악/댄스/가수] 2380만 215억4029만 15,831개\n",
      "JYP Entertainment [음악/댄스/가수] 2340만 153억4262만 1,435개\n",
      "Mnet K-POP [음악/댄스/가수] 1920만 142억1154만 27,004개\n",
      "KBS WORLD TV [TV/방송] 1740만 130억6447만 54,745개\n",
      "JFlaMusic [음악/댄스/가수] 1740만 35억2897만 282개\n",
      "Jane ASMR 제인 [음식/요리/레시피] 1580만 56억9319만 1,337개\n",
      "officialpsy [음악/댄스/가수] 1540만 89억1343만 91개\n",
      "BIGBANG [음악/댄스/가수] 1400만 68억8354만 773개\n",
      "TWICE [음악/댄스/가수] 1290만 28억6640만 727개\n",
      "Hongyu ASMR 홍유 [음식/요리/레시피] 1120만 32억8265만 432개\n",
      "Nao FunFun [키즈/어린이] 1070만 459만 37개\n",
      "Stone Music Entertainment [음악/댄스/가수] 1020만 83억7984만 8,442개\n",
      "DuDuPopTOY [키즈/어린이] 1020만 45억7419만 1,958개\n",
      "핑크퐁 (인기 동요・동화) [키즈/어린이] 1010만 61억1515만 2,441개\n",
      "Toymong tv 토이몽TV [키즈/어린이] 974만 40억1866만 1,953개\n",
      "MBCkpop [TV/방송] 971만 77억5495만 42,103개\n",
      "Larva TUBA [키즈/어린이] 957만 41억8739만 2,974개\n",
      "서은이야기[SeoeunStory] [키즈/어린이] 943만 40억7111만 1,036개\n",
      "Mnet TV [음악/댄스/가수] 875만 103억4348만 19,490개\n",
      "[햄지]Hamzy [음식/요리/레시피] 868만 26억1349만 380개\n",
      "EXO [음악/댄스/가수] 861만 5억5296만 240개\n",
      "MBCentertainment [뉴스/정치/사회] 854만 150억8052만 88,851개\n",
      "TOMORROW X TOGETHER OFFICIAL [음악/댄스/가수] 852만 6억2898만 941개\n",
      "iKON [음악/댄스/가수] 845만 21억8121만 475개\n",
      "Stray Kids [음악/댄스/가수] 838만 14억0622만 537개\n",
      "M2 [TV/방송] 791만 60억5227만 15,098개\n",
      "Serie A [해외] 775만 26억4493만 21,489개\n",
      "MariAndKids [키즈/어린이] 755만 23억2910만 810개\n",
      "쏘영 Ssoyoung [음식/요리/레시피] 736만 7억5240만 530개\n",
      "SEVENTEEN [음악/댄스/가수] 735만 24억6276만 986개\n",
      "SonicToy소닉토이 [키즈/어린이] 728만 30억2714만 163개\n",
      "이지금 [IU Official] [음악/댄스/가수] 726만 12억2765만 139개\n",
      "문복희 Eat with Boki [음식/요리/레시피] 717만 17억0724만 513개\n",
      "JTBC Entertainment [뉴스/정치/사회] 708만 102억5022만 67,302개\n",
      "Sungha Jung [음악/댄스/가수] 680만 18억9597만 1,301개\n",
      "KBS Kpop [TV/방송] 664만 52억0200만 31,067개\n",
      "Pixar [미분류] 655만 32억4455만 695개\n",
      "ITZY [음악/댄스/가수] 654만 12억5214만 521개\n",
      "ALL THE K-POP [음악/댄스/가수] 653만 40억3666만 21,260개\n",
      "YG ENTERTAINMENT [음악/댄스/가수] 653만 16억6432만 389개\n",
      "MAMAMOO [음악/댄스/가수] 644만 18억2727만 633개\n",
      "스브스케이팝 / SBS KPOP [TV/방송] 628만 43억5120만 27,883개\n",
      "GOT7 [음악/댄스/가수] 614만 7억8583만 579개\n",
      "SBS Entertainment [TV/방송] 606만 71억9905만 219,201개\n",
      "tvN drama [TV/방송] 599만 61억4655만 38,861개\n",
      "Samsung [회사/오피셜] 595만 13억1879만 1,634개\n",
      "PONY Syndrome [패션/미용] 592만 3억4649만 198개\n",
      "[장난감티비]TOYTV [키즈/어린이] 586만 28억7435만 1,545개\n",
      "SBS Drama [TV/방송] 585만 61억7267만 341,975개\n",
      "미니특공대TV [키즈/어린이] 583만 32억8217만 1,208개\n",
      "야미보이 Yummyboy [음식/요리/레시피] 580만 21억3466만 911개\n",
      "스위트티비 SweetTV [키즈/어린이] 562만 27억3075만 513개\n",
      "2NE1 [음악/댄스/가수] 539만 20억0710만 321개\n",
      "백종원의 요리비책 Paik's Cuisine [음식/요리/레시피] 526만 5억9360만 373개\n",
      "tzuyang쯔양 [음식/요리/레시피] 526만 8억5221만 308개\n",
      "콩순이 Kongsuni [키즈/어린이] 520만 46억4845만 1,296개\n",
      "[Awesome Haeun]어썸하은 [BJ/인물/연예인] 518만 8억2337만 521개\n",
      "starshipTV [음악/댄스/가수] 508만 29억4523만 1,999개\n",
      "베이비버스 -인기 동요・동화 [키즈/어린이] 492만 33억4406만 1,357개\n",
      "ToyMart TV [키즈/어린이] 491만 21억4933만 651개\n",
      "TREASURE (트레저) [음악/댄스/가수] 490만 9억7809만 316개\n",
      "BT21 [음악/댄스/가수] 489만 4억0378만 220개\n",
      "TOY GUMA [키즈/어린이] 489만 16억1396만 306개\n",
      "SBS NOW / SBS 공식 채널 [뉴스/정치/사회] 479만 48억0676만 20,621개\n",
      "NCT [음악/댄스/가수] 477만 3억8207만 293개\n",
      "With Kids Playground [위드키즈 놀이터] [키즈/어린이] 474만 17억8165만 416개\n",
      "Red Velvet [음악/댄스/가수] 468만 7억4214만 154개\n",
      "푸메Fume [음식/요리/레시피] 464만 9억6115만 513개\n",
      "KBS Entertain [TV/방송] 463만 75억0905만 103,370개\n",
      "떵개떵 [음식/요리/레시피] 460만 26억2627만 4,465개\n",
      "ASTRO 아스트로 [음악/댄스/가수] 457만 4억5619만 475개\n",
      "MBCdrama [TV/방송] 454만 51억2523만 55,247개\n",
      "영국남자 Korean Englishman [BJ/인물/연예인] 454만 14억8114만 447개\n",
      "뽀로로(Pororo) [키즈/어린이] 450만 61억3635만 3,734개\n",
      "하루한끼 one meal a day [음식/요리/레시피] 440만 4억3182만 176개\n",
      "NCT 127 [음악/댄스/가수] 436만 5억1086만 297개\n",
      "JTBC Drama [TV/방송] 435만 44억2272만 23,899개\n",
      "채널 NCT DAILY [TV/방송] 434만 7억7380만 467개\n",
      "NCT DREAM [음악/댄스/가수] 432만 5억0057만 245개\n",
      "SBS TV동물농장x애니멀봐 [애완/반려동물] 431만 39억4209만 3,249개\n",
      "Cooking tree 쿠킹트리 [음식/요리/레시피] 431만 4억0526만 1,192개\n",
      "슈슈토이 Shushu ToysReview [키즈/어린이] 429만 16억1604만 656개\n",
      "EA SPORTS FIFA [게임] 426만 8억0475만 796개\n",
      "까니짱 [ G-NI ] [음식/요리/레시피] 425만 11억3391만 554개\n",
      "Raon Lee [음악/댄스/가수] 424만 9억7013만 301개\n",
      "로미유 스토리[Romiyu Story] [키즈/어린이] 419만 11억0449만 434개\n",
      "[Dorothy]도로시 [음식/요리/레시피] 416만 10억0227만 907개\n",
      "JaeYeol ASMR 재열 [취미/라이프] 400만 11억1348만 1,037개\n",
      "CoCosToy 꼬꼬스토이 [키즈/어린이] 396만 22억5115만 664개\n",
      "허팝Heopop [BJ/인물/연예인] 385만 33억0441만 1,912개\n",
      "워크맨-Workman [TV/방송] 381만 7억7678만 163개\n",
      "WINNER [음악/댄스/가수] 381만 12억2780만 461개\n",
      "크림히어로즈 [애완/반려동물] 377만 14억3043만 1,027개\n",
      "Lime Tube[라임튜브] [키즈/어린이] 375만 26억6897만 1,833개\n"
     ]
    }
   ],
   "source": [
    "# 채널 정보 추출\n",
    "channel_list = soup.select('form > table > tbody > tr')\n",
    "for channel in channel_list:\n",
    "    category = channel.select('.category')[0].text.strip()\n",
    "    title = channel.select('h1 > a')[0].text.strip()\n",
    "    subscriber = channel.select('.subscriber_cnt')[0].text\n",
    "    view = channel.select('.view_cnt')[0].text\n",
    "    video = channel.select('.video_cnt')[0].text\n",
    "    print(title, category, subscriber, view, video)"
   ]
  },
  {
   "cell_type": "code",
   "execution_count": 89,
   "id": "068588a8",
   "metadata": {
    "scrolled": true
   },
   "outputs": [
    {
     "data": {
      "text/plain": [
       "[['티키틱 TIKITIK', '[TV/방송]', '60만', '1억3467만', '154개'],\n",
       " ['서울의소리 Voice of Seoul', '[뉴스/정치/사회]', '60만', '3억0619만', '8,617개'],\n",
       " ['아옳이', '[패션/미용]', '60만', '1억1319만', '171개'],\n",
       " ['drighk fancam 2015', '[TV/방송]', '60만', '4억2289만', '5,280개'],\n",
       " ['에버랜드 - EVERLAND', '[미분류]', '60만', '1억8976만', '2,098개'],\n",
       " ['코니tv conitv', '[TV/방송]', '60만', '1억0332만', '507개'],\n",
       " ['씨그널V [ Signal V ]', '[TV/방송]', '60만', '2억1520만', '624개'],\n",
       " ['소개해주는 남자', '[영화/만화/애니]', '60만', '1억8121만', '246개'],\n",
       " ['근황올림픽', '[미분류]', '60만', '2억9296만', '279개'],\n",
       " ['Olive', '[TV/방송]', '60만', '6억7122만', '17,125개'],\n",
       " ['쏘대장', '[미분류]', '59만', '1억2833만', '348개'],\n",
       " ['공구왕황부장', '[취미/라이프]', '59만', '1억2866만', '484개'],\n",
       " ['TV대정령', '[게임]', '59만', '6억3723만', '7,526개'],\n",
       " ['서넹', '[게임]', '59만', '2억2312만', '2,898개'],\n",
       " ['토킹톰앤프렌즈', '[영화/만화/애니]', '59만', '2억4309만', '262개'],\n",
       " ['영기티비', '[미분류]', '59만', '1억0099만', '235개'],\n",
       " ['안다 ANDA', '[패션/미용]', '59만', '3978만', '186개'],\n",
       " ['석준이가해', '[TV/방송]', '59만', '1억3617만', '238개'],\n",
       " ['굉장한 실험실', '[교육/강의]', '59만', '3억0578만', '205개'],\n",
       " ['여수MBC Music+(Kpop&Trot)', '[뉴스/정치/사회]', '59만', '3억7363만', '12,943개'],\n",
       " ['ConCorea TV', '[취미/라이프]', '59만', '1491만', '630개'],\n",
       " ['leeanfilm리안', '[패션/미용]', '59만', '5094만', '194개'],\n",
       " ['쓸모왕', '[뉴스/정치/사회]', '59만', '4억7090만', '773개'],\n",
       " ['풍자테레비', '[BJ/인물/연예인]', '59만', '2억7398만', '1,760개'],\n",
       " ['코믹마트', '[미분류]', '59만', '2억1766만', '298개'],\n",
       " ['로이조 TV', '[게임]', '59만', '4억3647만', '2,713개'],\n",
       " ['김메주와 고양이들', '[애완/반려동물]', '59만', '2억0488만', '1,027개'],\n",
       " ['청정구역', '[미분류]', '58만', '2억0680만', '512개'],\n",
       " ['국방TV', '[뉴스/정치/사회]', '58만', '5억4479만', '11,481개'],\n",
       " ['STATV', '[TV/방송]', '58만', '1억9934만', '7,675개'],\n",
       " ['이영지', '[미분류]', '58만', '6275만', '34개'],\n",
       " ['정육왕 MeatCreator', '[음식/요리/레시피]', '58만', '1억4094만', '461개'],\n",
       " ['공돌이 용달', '[TV/방송]', '58만', '1억8231만', '220개'],\n",
       " ['Wolves', '[미분류]', '58만', '1억3575만', '2,032개'],\n",
       " ['앗무만 ATMUMAN', '[미분류]', '58만', '6124만', '40개'],\n",
       " ['TVXQ!', '[음악/댄스/가수]', '58만', '4360만', '80개'],\n",
       " ['[Flower pig]꽃돼지', '[음식/요리/레시피]', '58만', '2억0458만', '1,279개'],\n",
       " ['Troom Troom Kr', '[키즈/어린이]', '58만', '4억0119만', '2,025개'],\n",
       " ['MR엠알', '[IT/기술/컴퓨터]', '58만', '9247만', '414개'],\n",
       " ['Melon 멜론', '[미분류]', '58만', '8187만', '318개'],\n",
       " ['일주어터', '[미분류]', '58만', '1억1022만', '180개'],\n",
       " ['자몽티비', '[게임]', '58만', '5억7404만', '2,205개'],\n",
       " ['Clevr TV [클레버티비]', '[키즈/어린이]', '58만', '5억7619만', '1,893개'],\n",
       " ['검은고양이 다홍 Blackcat Dahong', '[미분류]', '58만', '3697만', '44개'],\n",
       " ['정라레_Lifestyle Doctor', '[미분류]', '58만', '8159만', '300개'],\n",
       " ['KBS 골든케이팝', '[미분류]', '58만', '4억1412만', '9,721개'],\n",
       " ['드립팩토리 [Dlib Factory]', '[미분류]', '58만', '2억1200만', '218개'],\n",
       " ['Ashley Mariee', '[해외]', '58만', '5627만', '2,046개'],\n",
       " ['1분만', '[미분류]', '57만', '1억8455만', '278개'],\n",
       " ['건나물TV', '[미분류]', '57만', '1억8598만', '398개'],\n",
       " ['온스테이지ONSTAGE', '[음악/댄스/가수]', '57만', '2억4774만', '2,390개'],\n",
       " ['LunLuns', '[미분류]', '57만', '1억8051만', '258개'],\n",
       " ['덕자전성시대', '[BJ/인물/연예인]', '57만', '7210만', '180개'],\n",
       " ['INFINITE', '[음악/댄스/가수]', '57만', '4672만', '199개'],\n",
       " ['May J Lee 메이제이 리', '[음악/댄스/가수]', '57만', '3018만', '49개'],\n",
       " ['버미쌤', '[미분류]', '57만', '1억1731만', '236개'],\n",
       " ['Ripple_S', '[TV/방송]', '57만', '3억3551만', '805개'],\n",
       " ['프리티에스더 PrettyEsther', '[키즈/어린이]', '57만', '3억4944만', '676개'],\n",
       " ['쿡피아 Cookpia', '[미분류]', '57만', '7990만', '162개'],\n",
       " ['God DongMin갓동민', '[음악/댄스/가수]', '57만', '9532만', '1,000개'],\n",
       " ['요리용디 Yori Yongd', '[미분류]', '57만', '2억5075만', '172개'],\n",
       " ['창배먹방 chang_bae', '[음식/요리/레시피]', '57만', '2억6231만', '1,354개'],\n",
       " ['Everton Football Club', '[미분류]', '57만', '1억6087만', '2,648개'],\n",
       " ['목포MBC 가요센터', '[TV/방송]', '57만', '2억1347만', '4,270개'],\n",
       " ['FILA KOREA', '[회사/오피셜]', '57만', '1억0441만', '502개'],\n",
       " ['TAU', '[취미/라이프]', '57만', '3억5511만', '108개'],\n",
       " ['김흥미', '[미분류]', '57만', '0', '0개'],\n",
       " ['더스쿱The SCOOP', '[음식/요리/레시피]', '57만', '8588만', '406개'],\n",
       " ['형독방송', '[게임]', '57만', '5억2699만', '1,840개'],\n",
       " ['Ed Sheeran - Topic', '[미분류]', '57만', '15억3196만', '561개'],\n",
       " ['교양만두', '[미분류]', '57만', '1억0554만', '107개'],\n",
       " ['양세브라더스', '[미분류]', '57만', '2482만', '16개'],\n",
       " ['은하캠핑', '[TV/방송]', '57만', '1억1379만', '223개'],\n",
       " ['밉지않은 관종언니', '[미분류]', '57만', '8628만', '188개'],\n",
       " ['레이디액션', '[TV/방송]', '57만', '3억2210만', '397개'],\n",
       " ['스튜디오V [ STUDIO V ]', '[TV/방송]', '57만', '1억7416만', '356개'],\n",
       " ['최홍철', '[BJ/인물/연예인]', '56만', '1억5174만', '295개'],\n",
       " ['임선비', '[게임]', '56만', '2억8432만', '1,230개'],\n",
       " ['Super K-슈퍼개미김정환', '[미분류]', '56만', '5900만', '558개'],\n",
       " ['유이뿅YUIPYON', '[미분류]', '56만', '1억5263만', '328개'],\n",
       " ['[팟빵] 매불쇼', '[뉴스/정치/사회]', '56만', '1억9649만', '799개'],\n",
       " ['[ALTUBE] 김성현TV', '[게임]', '56만', '4억3223만', '2,123개'],\n",
       " ['Arirang은 고양이들내가 주인', '[애완/반려동물]', '56만', '1억7429만', '415개'],\n",
       " ['KBS역사저널 그날', '[TV/방송]', '56만', '2억0053만', '2,618개'],\n",
       " ['Flow Music', '[음악/댄스/가수]', '56만', '1억2744만', '518개'],\n",
       " ['Rirang OnAir', '[국내/해외/여행]', '56만', '6742만', '170개'],\n",
       " ['다영 DAYEONG', '[패션/미용]', '56만', '7771만', '374개'],\n",
       " ['Arirang News', '[뉴스/정치/사회]', '56만', '2억5136만', '128,155개'],\n",
       " ['DanalEntertainment', '[음악/댄스/가수]', '56만', '2억9746만', '9,727개'],\n",
       " ['효크포크 Krazy girl', '[TV/방송]', '56만', '1억2685만', '126개'],\n",
       " ['디렉터 짱구대디', '[패션/미용]', '56만', '1억8673만', '1,852개'],\n",
       " ['호갱구조대', '[미분류]', '56만', '1억2175만', '69개'],\n",
       " ['방앗간 비둘기', '[게임]', '56만', '3억6189만', '4,403개'],\n",
       " ['엣지님', '[BJ/인물/연예인]', '56만', '2억0034만', '1,653개'],\n",
       " ['SINCOOK - 신쿡', '[음식/요리/레시피]', '56만', '1억0463만', '501개'],\n",
       " ['Trouble Maker (Official YouTube Channel)',\n",
       "  '[음악/댄스/가수]',\n",
       "  '56만',\n",
       "  '1억9085만',\n",
       "  '9개'],\n",
       " ['캐리TV 주니어', '[키즈/어린이]', '56만', '6억3814만', '1,451개'],\n",
       " ['샬이 Shal.E', '[취미/라이프]', '56만', '2259만', '63개'],\n",
       " ['ASMR Boyoung 반보영', '[미분류]', '55만', '9140만', '172개'],\n",
       " ['앵쩡TV', '[음식/요리/레시피]', '55만', '9921만', '300개']]"
      ]
     },
     "execution_count": 89,
     "metadata": {},
     "output_type": "execute_result"
    }
   ],
   "source": [
    "channel_list = soup.select('form > table > tbody > tr')\n",
    "song_list = []\n",
    "for channel in channel_list:\n",
    "    category = channel.select('.category')[0].text.strip()\n",
    "    title = channel.select('h1 > a')[0].text.strip()\n",
    "    subscriber = channel.select('.subscriber_cnt')[0].text\n",
    "    view = channel.select('.view_cnt')[0].text\n",
    "    video = channel.select('.video_cnt')[0].text\n",
    "    mylist = [title, category, subscriber, view, video]\n",
    "    song_list.append(mylist)\n",
    "song_list"
   ]
  },
  {
   "cell_type": "code",
   "execution_count": null,
   "id": "3e017e94",
   "metadata": {},
   "outputs": [],
   "source": [
    "# 페이지2에 있는 채널 정보 추출\n",
    "\"http://youtube-rank.com/board/bbs/board.php?bo_table=youtube&page=2\""
   ]
  },
  {
   "cell_type": "code",
   "execution_count": 60,
   "id": "968eb6a4",
   "metadata": {},
   "outputs": [
    {
     "data": {
      "text/plain": [
       "'http://youtube-rank.com/board/bbs/board.php?bo_table=youtube&page=1'"
      ]
     },
     "execution_count": 60,
     "metadata": {},
     "output_type": "execute_result"
    }
   ],
   "source": [
    "# 페이지별 URL 만들기\n",
    "page = 1\n",
    "url = \"http://youtube-rank.com/board/bbs/board.php?bo_table=youtube&page={}\".format(page)\n",
    "url"
   ]
  },
  {
   "cell_type": "code",
   "execution_count": 62,
   "id": "c16010f7",
   "metadata": {},
   "outputs": [],
   "source": [
    "import time"
   ]
  },
  {
   "cell_type": "code",
   "execution_count": 66,
   "id": "b10659aa",
   "metadata": {},
   "outputs": [],
   "source": [
    "# 여러 페이지 크롤링\n",
    "results = []\n",
    "for page in range(1,11):\n",
    "    url = \"http://youtube-rank.com/board/bbs/board.php?bo_table=youtube&page={}\".format(page)\n",
    "    driver.get(url)\n",
    "    time.sleep(2)    # 현재 실행되는 코드를 인자로 지정한 2초만큼 멈춤\n",
    "                     # 화면이 정상적으로 로딩된 후 HTML 문서를 가져와야 하기 때문에 각 반복마다 화면을 이동한 후 대기할 시간 설정\n",
    "    html = driver.page_source\n",
    "    soup = BeautifulSoup(html, 'html.parser')\n",
    "    channel_list = soup.select('form > table > tbody > tr')\n",
    "    for channel in channel_list:\n",
    "        category = channel.select('.category')[0].text.strip()\n",
    "        title = channel.select('h1 > a')[0].text.strip()\n",
    "        subscriber = channel.select('.subscriber_cnt')[0].text\n",
    "        view = channel.select('.view_cnt')[0].text\n",
    "        video = channel.select('.video_cnt')[0].text\n",
    "        data = [title, category, subscriber, view, video]\n",
    "        results.append(data)"
   ]
  },
  {
   "cell_type": "code",
   "execution_count": 68,
   "id": "09b7aa18",
   "metadata": {},
   "outputs": [],
   "source": [
    "import pandas as pd"
   ]
  },
  {
   "cell_type": "code",
   "execution_count": 69,
   "id": "a905b093",
   "metadata": {},
   "outputs": [],
   "source": [
    "df = pd.DataFrame(results)\n",
    "df.columns = ['title', 'category','subscriber', 'view', 'video']\n",
    "df.to_excel('youtube_rank.xlsx', index=False)"
   ]
  },
  {
   "cell_type": "markdown",
   "id": "ab35f0b5",
   "metadata": {},
   "source": [
    "## 시각화"
   ]
  },
  {
   "cell_type": "code",
   "execution_count": 71,
   "id": "94341f33",
   "metadata": {},
   "outputs": [],
   "source": [
    "import pandas as pd\n",
    "import matplotlib.pyplot as plt"
   ]
  },
  {
   "cell_type": "code",
   "execution_count": 72,
   "id": "610a713f",
   "metadata": {},
   "outputs": [],
   "source": [
    "# 한글 표기\n",
    "from matplotlib import font_manager, rc\n",
    "path = 'c:/Windows/Fonts/malgun.ttf'\n",
    "font_name = font_manager.FontProperties(fname = path).get_name()\n",
    "rc('font', family = font_name)"
   ]
  },
  {
   "cell_type": "code",
   "execution_count": 73,
   "id": "60bbcee7",
   "metadata": {},
   "outputs": [
    {
     "data": {
      "text/html": [
       "<div>\n",
       "<style scoped>\n",
       "    .dataframe tbody tr th:only-of-type {\n",
       "        vertical-align: middle;\n",
       "    }\n",
       "\n",
       "    .dataframe tbody tr th {\n",
       "        vertical-align: top;\n",
       "    }\n",
       "\n",
       "    .dataframe thead th {\n",
       "        text-align: right;\n",
       "    }\n",
       "</style>\n",
       "<table border=\"1\" class=\"dataframe\">\n",
       "  <thead>\n",
       "    <tr style=\"text-align: right;\">\n",
       "      <th></th>\n",
       "      <th>title</th>\n",
       "      <th>category</th>\n",
       "      <th>subscriber</th>\n",
       "      <th>view</th>\n",
       "      <th>video</th>\n",
       "    </tr>\n",
       "  </thead>\n",
       "  <tbody>\n",
       "    <tr>\n",
       "      <th>0</th>\n",
       "      <td>BLACKPINK</td>\n",
       "      <td>[음악/댄스/가수]</td>\n",
       "      <td>7130만</td>\n",
       "      <td>220억1380만</td>\n",
       "      <td>395개</td>\n",
       "    </tr>\n",
       "    <tr>\n",
       "      <th>1</th>\n",
       "      <td>HYBE LABELS</td>\n",
       "      <td>[음악/댄스/가수]</td>\n",
       "      <td>6360만</td>\n",
       "      <td>209억9925만</td>\n",
       "      <td>786개</td>\n",
       "    </tr>\n",
       "    <tr>\n",
       "      <th>2</th>\n",
       "      <td>BANGTANTV</td>\n",
       "      <td>[음악/댄스/가수]</td>\n",
       "      <td>6290만</td>\n",
       "      <td>146억5398만</td>\n",
       "      <td>1,665개</td>\n",
       "    </tr>\n",
       "    <tr>\n",
       "      <th>3</th>\n",
       "      <td>SMTOWN</td>\n",
       "      <td>[음악/댄스/가수]</td>\n",
       "      <td>2970만</td>\n",
       "      <td>234억2536만</td>\n",
       "      <td>3,840개</td>\n",
       "    </tr>\n",
       "    <tr>\n",
       "      <th>4</th>\n",
       "      <td>Boram Tube Vlog [보람튜브 브이로그]</td>\n",
       "      <td>[키즈/어린이]</td>\n",
       "      <td>2650만</td>\n",
       "      <td>110억5288만</td>\n",
       "      <td>223개</td>\n",
       "    </tr>\n",
       "  </tbody>\n",
       "</table>\n",
       "</div>"
      ],
      "text/plain": [
       "                         title    category subscriber       view   video\n",
       "0                    BLACKPINK  [음악/댄스/가수]      7130만  220억1380만    395개\n",
       "1                  HYBE LABELS  [음악/댄스/가수]      6360만  209억9925만    786개\n",
       "2                    BANGTANTV  [음악/댄스/가수]      6290만  146억5398만  1,665개\n",
       "3                       SMTOWN  [음악/댄스/가수]      2970만  234억2536만  3,840개\n",
       "4  Boram Tube Vlog [보람튜브 브이로그]    [키즈/어린이]      2650만  110억5288만    223개"
      ]
     },
     "execution_count": 73,
     "metadata": {},
     "output_type": "execute_result"
    }
   ],
   "source": [
    "df = pd.read_excel('youtube_rank.xlsx')\n",
    "df.head()"
   ]
  },
  {
   "cell_type": "code",
   "execution_count": 74,
   "id": "3070b896",
   "metadata": {},
   "outputs": [
    {
     "data": {
      "text/html": [
       "<div>\n",
       "<style scoped>\n",
       "    .dataframe tbody tr th:only-of-type {\n",
       "        vertical-align: middle;\n",
       "    }\n",
       "\n",
       "    .dataframe tbody tr th {\n",
       "        vertical-align: top;\n",
       "    }\n",
       "\n",
       "    .dataframe thead th {\n",
       "        text-align: right;\n",
       "    }\n",
       "</style>\n",
       "<table border=\"1\" class=\"dataframe\">\n",
       "  <thead>\n",
       "    <tr style=\"text-align: right;\">\n",
       "      <th></th>\n",
       "      <th>title</th>\n",
       "      <th>category</th>\n",
       "      <th>subscriber</th>\n",
       "      <th>view</th>\n",
       "      <th>video</th>\n",
       "    </tr>\n",
       "  </thead>\n",
       "  <tbody>\n",
       "    <tr>\n",
       "      <th>995</th>\n",
       "      <td>Trouble Maker (Official YouTube Channel)</td>\n",
       "      <td>[음악/댄스/가수]</td>\n",
       "      <td>56만</td>\n",
       "      <td>1억9085만</td>\n",
       "      <td>9개</td>\n",
       "    </tr>\n",
       "    <tr>\n",
       "      <th>996</th>\n",
       "      <td>캐리TV 주니어</td>\n",
       "      <td>[키즈/어린이]</td>\n",
       "      <td>56만</td>\n",
       "      <td>6억3814만</td>\n",
       "      <td>1,451개</td>\n",
       "    </tr>\n",
       "    <tr>\n",
       "      <th>997</th>\n",
       "      <td>샬이 Shal.E</td>\n",
       "      <td>[취미/라이프]</td>\n",
       "      <td>56만</td>\n",
       "      <td>2259만</td>\n",
       "      <td>63개</td>\n",
       "    </tr>\n",
       "    <tr>\n",
       "      <th>998</th>\n",
       "      <td>ASMR Boyoung 반보영</td>\n",
       "      <td>[미분류]</td>\n",
       "      <td>55만</td>\n",
       "      <td>9140만</td>\n",
       "      <td>172개</td>\n",
       "    </tr>\n",
       "    <tr>\n",
       "      <th>999</th>\n",
       "      <td>앵쩡TV</td>\n",
       "      <td>[음식/요리/레시피]</td>\n",
       "      <td>55만</td>\n",
       "      <td>9921만</td>\n",
       "      <td>300개</td>\n",
       "    </tr>\n",
       "  </tbody>\n",
       "</table>\n",
       "</div>"
      ],
      "text/plain": [
       "                                        title     category subscriber  \\\n",
       "995  Trouble Maker (Official YouTube Channel)   [음악/댄스/가수]        56만   \n",
       "996                                  캐리TV 주니어     [키즈/어린이]        56만   \n",
       "997                                 샬이 Shal.E     [취미/라이프]        56만   \n",
       "998                          ASMR Boyoung 반보영        [미분류]        55만   \n",
       "999                                      앵쩡TV  [음식/요리/레시피]        55만   \n",
       "\n",
       "        view   video  \n",
       "995  1억9085만      9개  \n",
       "996  6억3814만  1,451개  \n",
       "997    2259만     63개  \n",
       "998    9140만    172개  \n",
       "999    9921만    300개  "
      ]
     },
     "execution_count": 74,
     "metadata": {},
     "output_type": "execute_result"
    }
   ],
   "source": [
    "df.tail()"
   ]
  },
  {
   "cell_type": "code",
   "execution_count": 75,
   "id": "c8ed5522",
   "metadata": {},
   "outputs": [
    {
     "data": {
      "text/plain": [
       "0    7130만\n",
       "1    6360만\n",
       "2    6290만\n",
       "3    2970만\n",
       "4    2650만\n",
       "5    2470만\n",
       "6    2380만\n",
       "7    2340만\n",
       "8    1920만\n",
       "9    1740만\n",
       "Name: subscriber, dtype: object"
      ]
     },
     "execution_count": 75,
     "metadata": {},
     "output_type": "execute_result"
    }
   ],
   "source": [
    "# 구독자 수 10위\n",
    "df['subscriber'][0:10]"
   ]
  },
  {
   "cell_type": "code",
   "execution_count": 77,
   "id": "63a26db6",
   "metadata": {},
   "outputs": [
    {
     "data": {
      "text/html": [
       "<div>\n",
       "<style scoped>\n",
       "    .dataframe tbody tr th:only-of-type {\n",
       "        vertical-align: middle;\n",
       "    }\n",
       "\n",
       "    .dataframe tbody tr th {\n",
       "        vertical-align: top;\n",
       "    }\n",
       "\n",
       "    .dataframe thead th {\n",
       "        text-align: right;\n",
       "    }\n",
       "</style>\n",
       "<table border=\"1\" class=\"dataframe\">\n",
       "  <thead>\n",
       "    <tr style=\"text-align: right;\">\n",
       "      <th></th>\n",
       "      <th>title</th>\n",
       "      <th>category</th>\n",
       "      <th>subscriber</th>\n",
       "      <th>view</th>\n",
       "      <th>video</th>\n",
       "      <th>replaced_subscriber</th>\n",
       "    </tr>\n",
       "  </thead>\n",
       "  <tbody>\n",
       "    <tr>\n",
       "      <th>0</th>\n",
       "      <td>BLACKPINK</td>\n",
       "      <td>[음악/댄스/가수]</td>\n",
       "      <td>7130만</td>\n",
       "      <td>220억1380만</td>\n",
       "      <td>395개</td>\n",
       "      <td>71300000</td>\n",
       "    </tr>\n",
       "    <tr>\n",
       "      <th>1</th>\n",
       "      <td>HYBE LABELS</td>\n",
       "      <td>[음악/댄스/가수]</td>\n",
       "      <td>6360만</td>\n",
       "      <td>209억9925만</td>\n",
       "      <td>786개</td>\n",
       "      <td>63600000</td>\n",
       "    </tr>\n",
       "    <tr>\n",
       "      <th>2</th>\n",
       "      <td>BANGTANTV</td>\n",
       "      <td>[음악/댄스/가수]</td>\n",
       "      <td>6290만</td>\n",
       "      <td>146억5398만</td>\n",
       "      <td>1,665개</td>\n",
       "      <td>62900000</td>\n",
       "    </tr>\n",
       "    <tr>\n",
       "      <th>3</th>\n",
       "      <td>SMTOWN</td>\n",
       "      <td>[음악/댄스/가수]</td>\n",
       "      <td>2970만</td>\n",
       "      <td>234억2536만</td>\n",
       "      <td>3,840개</td>\n",
       "      <td>29700000</td>\n",
       "    </tr>\n",
       "    <tr>\n",
       "      <th>4</th>\n",
       "      <td>Boram Tube Vlog [보람튜브 브이로그]</td>\n",
       "      <td>[키즈/어린이]</td>\n",
       "      <td>2650만</td>\n",
       "      <td>110억5288만</td>\n",
       "      <td>223개</td>\n",
       "      <td>26500000</td>\n",
       "    </tr>\n",
       "  </tbody>\n",
       "</table>\n",
       "</div>"
      ],
      "text/plain": [
       "                         title    category subscriber       view   video  \\\n",
       "0                    BLACKPINK  [음악/댄스/가수]      7130만  220억1380만    395개   \n",
       "1                  HYBE LABELS  [음악/댄스/가수]      6360만  209억9925만    786개   \n",
       "2                    BANGTANTV  [음악/댄스/가수]      6290만  146억5398만  1,665개   \n",
       "3                       SMTOWN  [음악/댄스/가수]      2970만  234억2536만  3,840개   \n",
       "4  Boram Tube Vlog [보람튜브 브이로그]    [키즈/어린이]      2650만  110억5288만    223개   \n",
       "\n",
       "  replaced_subscriber  \n",
       "0            71300000  \n",
       "1            63600000  \n",
       "2            62900000  \n",
       "3            29700000  \n",
       "4            26500000  "
      ]
     },
     "execution_count": 77,
     "metadata": {},
     "output_type": "execute_result"
    }
   ],
   "source": [
    "df['replaced_subscriber'] = df['subscriber'].str.replace('만','0000')\n",
    "df.head()"
   ]
  },
  {
   "cell_type": "code",
   "execution_count": 78,
   "id": "2b5290c4",
   "metadata": {},
   "outputs": [
    {
     "name": "stdout",
     "output_type": "stream",
     "text": [
      "<class 'pandas.core.frame.DataFrame'>\n",
      "RangeIndex: 1000 entries, 0 to 999\n",
      "Data columns (total 6 columns):\n",
      " #   Column               Non-Null Count  Dtype \n",
      "---  ------               --------------  ----- \n",
      " 0   title                1000 non-null   object\n",
      " 1   category             1000 non-null   object\n",
      " 2   subscriber           1000 non-null   object\n",
      " 3   view                 1000 non-null   object\n",
      " 4   video                1000 non-null   object\n",
      " 5   replaced_subscriber  1000 non-null   object\n",
      "dtypes: object(6)\n",
      "memory usage: 47.0+ KB\n"
     ]
    }
   ],
   "source": [
    "df.info()"
   ]
  },
  {
   "cell_type": "code",
   "execution_count": 79,
   "id": "73541963",
   "metadata": {},
   "outputs": [
    {
     "name": "stdout",
     "output_type": "stream",
     "text": [
      "<class 'pandas.core.frame.DataFrame'>\n",
      "RangeIndex: 1000 entries, 0 to 999\n",
      "Data columns (total 6 columns):\n",
      " #   Column               Non-Null Count  Dtype \n",
      "---  ------               --------------  ----- \n",
      " 0   title                1000 non-null   object\n",
      " 1   category             1000 non-null   object\n",
      " 2   subscriber           1000 non-null   object\n",
      " 3   view                 1000 non-null   object\n",
      " 4   video                1000 non-null   object\n",
      " 5   replaced_subscriber  1000 non-null   int32 \n",
      "dtypes: int32(1), object(5)\n",
      "memory usage: 43.1+ KB\n"
     ]
    }
   ],
   "source": [
    "# replaced_subscriber 데이터 타입 'int'로 변경\n",
    "df['replaced_subscriber'] = df['replaced_subscriber'].astype('int')\n",
    "df.info()"
   ]
  },
  {
   "cell_type": "code",
   "execution_count": 80,
   "id": "70b54305",
   "metadata": {},
   "outputs": [
    {
     "data": {
      "text/html": [
       "<div>\n",
       "<style scoped>\n",
       "    .dataframe tbody tr th:only-of-type {\n",
       "        vertical-align: middle;\n",
       "    }\n",
       "\n",
       "    .dataframe tbody tr th {\n",
       "        vertical-align: top;\n",
       "    }\n",
       "\n",
       "    .dataframe thead tr th {\n",
       "        text-align: left;\n",
       "    }\n",
       "\n",
       "    .dataframe thead tr:last-of-type th {\n",
       "        text-align: right;\n",
       "    }\n",
       "</style>\n",
       "<table border=\"1\" class=\"dataframe\">\n",
       "  <thead>\n",
       "    <tr>\n",
       "      <th></th>\n",
       "      <th>sum</th>\n",
       "      <th>count</th>\n",
       "    </tr>\n",
       "    <tr>\n",
       "      <th></th>\n",
       "      <th>replaced_subscriber</th>\n",
       "      <th>replaced_subscriber</th>\n",
       "    </tr>\n",
       "    <tr>\n",
       "      <th>category</th>\n",
       "      <th></th>\n",
       "      <th></th>\n",
       "    </tr>\n",
       "  </thead>\n",
       "  <tbody>\n",
       "    <tr>\n",
       "      <th>[BJ/인물/연예인]</th>\n",
       "      <td>94380000</td>\n",
       "      <td>66</td>\n",
       "    </tr>\n",
       "    <tr>\n",
       "      <th>[IT/기술/컴퓨터]</th>\n",
       "      <td>8540000</td>\n",
       "      <td>8</td>\n",
       "    </tr>\n",
       "    <tr>\n",
       "      <th>[TV/방송]</th>\n",
       "      <td>246290000</td>\n",
       "      <td>145</td>\n",
       "    </tr>\n",
       "    <tr>\n",
       "      <th>[게임]</th>\n",
       "      <td>71510000</td>\n",
       "      <td>70</td>\n",
       "    </tr>\n",
       "    <tr>\n",
       "      <th>[교육/강의]</th>\n",
       "      <td>24560000</td>\n",
       "      <td>21</td>\n",
       "    </tr>\n",
       "  </tbody>\n",
       "</table>\n",
       "</div>"
      ],
      "text/plain": [
       "                            sum               count\n",
       "            replaced_subscriber replaced_subscriber\n",
       "category                                           \n",
       "[BJ/인물/연예인]            94380000                  66\n",
       "[IT/기술/컴퓨터]             8540000                   8\n",
       "[TV/방송]               246290000                 145\n",
       "[게임]                   71510000                  70\n",
       "[교육/강의]                24560000                  21"
      ]
     },
     "execution_count": 80,
     "metadata": {},
     "output_type": "execute_result"
    }
   ],
   "source": [
    "# 카테고리별 구독자 수, 채널 수 피벗테이블 생성\n",
    "pivot_df = df.pivot_table(index='category', values='replaced_subscriber', aggfunc=['sum','count'])\n",
    "pivot_df.head()"
   ]
  },
  {
   "cell_type": "code",
   "execution_count": 81,
   "id": "6c27aee2",
   "metadata": {},
   "outputs": [
    {
     "data": {
      "text/html": [
       "<div>\n",
       "<style scoped>\n",
       "    .dataframe tbody tr th:only-of-type {\n",
       "        vertical-align: middle;\n",
       "    }\n",
       "\n",
       "    .dataframe tbody tr th {\n",
       "        vertical-align: top;\n",
       "    }\n",
       "\n",
       "    .dataframe thead th {\n",
       "        text-align: right;\n",
       "    }\n",
       "</style>\n",
       "<table border=\"1\" class=\"dataframe\">\n",
       "  <thead>\n",
       "    <tr style=\"text-align: right;\">\n",
       "      <th></th>\n",
       "      <th>subscriber_sum</th>\n",
       "      <th>subscriber_count</th>\n",
       "    </tr>\n",
       "    <tr>\n",
       "      <th>category</th>\n",
       "      <th></th>\n",
       "      <th></th>\n",
       "    </tr>\n",
       "  </thead>\n",
       "  <tbody>\n",
       "    <tr>\n",
       "      <th>[BJ/인물/연예인]</th>\n",
       "      <td>94380000</td>\n",
       "      <td>66</td>\n",
       "    </tr>\n",
       "    <tr>\n",
       "      <th>[IT/기술/컴퓨터]</th>\n",
       "      <td>8540000</td>\n",
       "      <td>8</td>\n",
       "    </tr>\n",
       "    <tr>\n",
       "      <th>[TV/방송]</th>\n",
       "      <td>246290000</td>\n",
       "      <td>145</td>\n",
       "    </tr>\n",
       "    <tr>\n",
       "      <th>[게임]</th>\n",
       "      <td>71510000</td>\n",
       "      <td>70</td>\n",
       "    </tr>\n",
       "    <tr>\n",
       "      <th>[교육/강의]</th>\n",
       "      <td>24560000</td>\n",
       "      <td>21</td>\n",
       "    </tr>\n",
       "  </tbody>\n",
       "</table>\n",
       "</div>"
      ],
      "text/plain": [
       "             subscriber_sum  subscriber_count\n",
       "category                                     \n",
       "[BJ/인물/연예인]        94380000                66\n",
       "[IT/기술/컴퓨터]         8540000                 8\n",
       "[TV/방송]           246290000               145\n",
       "[게임]               71510000                70\n",
       "[교육/강의]            24560000                21"
      ]
     },
     "execution_count": 81,
     "metadata": {},
     "output_type": "execute_result"
    }
   ],
   "source": [
    "# 컬럼명 변경\n",
    "pivot_df.columns = ['subscriber_sum','subscriber_count']\n",
    "pivot_df.head()"
   ]
  },
  {
   "cell_type": "code",
   "execution_count": 82,
   "id": "80c9a273",
   "metadata": {},
   "outputs": [
    {
     "data": {
      "text/html": [
       "<div>\n",
       "<style scoped>\n",
       "    .dataframe tbody tr th:only-of-type {\n",
       "        vertical-align: middle;\n",
       "    }\n",
       "\n",
       "    .dataframe tbody tr th {\n",
       "        vertical-align: top;\n",
       "    }\n",
       "\n",
       "    .dataframe thead th {\n",
       "        text-align: right;\n",
       "    }\n",
       "</style>\n",
       "<table border=\"1\" class=\"dataframe\">\n",
       "  <thead>\n",
       "    <tr style=\"text-align: right;\">\n",
       "      <th></th>\n",
       "      <th>category</th>\n",
       "      <th>subscriber_sum</th>\n",
       "      <th>subscriber_count</th>\n",
       "    </tr>\n",
       "  </thead>\n",
       "  <tbody>\n",
       "    <tr>\n",
       "      <th>0</th>\n",
       "      <td>[BJ/인물/연예인]</td>\n",
       "      <td>94380000</td>\n",
       "      <td>66</td>\n",
       "    </tr>\n",
       "    <tr>\n",
       "      <th>1</th>\n",
       "      <td>[IT/기술/컴퓨터]</td>\n",
       "      <td>8540000</td>\n",
       "      <td>8</td>\n",
       "    </tr>\n",
       "    <tr>\n",
       "      <th>2</th>\n",
       "      <td>[TV/방송]</td>\n",
       "      <td>246290000</td>\n",
       "      <td>145</td>\n",
       "    </tr>\n",
       "    <tr>\n",
       "      <th>3</th>\n",
       "      <td>[게임]</td>\n",
       "      <td>71510000</td>\n",
       "      <td>70</td>\n",
       "    </tr>\n",
       "    <tr>\n",
       "      <th>4</th>\n",
       "      <td>[교육/강의]</td>\n",
       "      <td>24560000</td>\n",
       "      <td>21</td>\n",
       "    </tr>\n",
       "  </tbody>\n",
       "</table>\n",
       "</div>"
      ],
      "text/plain": [
       "      category  subscriber_sum  subscriber_count\n",
       "0  [BJ/인물/연예인]        94380000                66\n",
       "1  [IT/기술/컴퓨터]         8540000                 8\n",
       "2      [TV/방송]       246290000               145\n",
       "3         [게임]        71510000                70\n",
       "4      [교육/강의]        24560000                21"
      ]
     },
     "execution_count": 82,
     "metadata": {},
     "output_type": "execute_result"
    }
   ],
   "source": [
    "# 인덱스 초기화\n",
    "# 'subscriber_sum','subscriber_count'가 각각 Series로 변경됨.\n",
    "pivot_df = pivot_df.reset_index()\n",
    "pivot_df.head()"
   ]
  },
  {
   "cell_type": "code",
   "execution_count": 83,
   "id": "46bf47db",
   "metadata": {},
   "outputs": [
    {
     "data": {
      "text/html": [
       "<div>\n",
       "<style scoped>\n",
       "    .dataframe tbody tr th:only-of-type {\n",
       "        vertical-align: middle;\n",
       "    }\n",
       "\n",
       "    .dataframe tbody tr th {\n",
       "        vertical-align: top;\n",
       "    }\n",
       "\n",
       "    .dataframe thead th {\n",
       "        text-align: right;\n",
       "    }\n",
       "</style>\n",
       "<table border=\"1\" class=\"dataframe\">\n",
       "  <thead>\n",
       "    <tr style=\"text-align: right;\">\n",
       "      <th></th>\n",
       "      <th>category</th>\n",
       "      <th>subscriber_sum</th>\n",
       "      <th>subscriber_count</th>\n",
       "    </tr>\n",
       "  </thead>\n",
       "  <tbody>\n",
       "    <tr>\n",
       "      <th>12</th>\n",
       "      <td>[음악/댄스/가수]</td>\n",
       "      <td>723570000</td>\n",
       "      <td>170</td>\n",
       "    </tr>\n",
       "    <tr>\n",
       "      <th>17</th>\n",
       "      <td>[키즈/어린이]</td>\n",
       "      <td>264200000</td>\n",
       "      <td>87</td>\n",
       "    </tr>\n",
       "    <tr>\n",
       "      <th>2</th>\n",
       "      <td>[TV/방송]</td>\n",
       "      <td>246290000</td>\n",
       "      <td>145</td>\n",
       "    </tr>\n",
       "    <tr>\n",
       "      <th>11</th>\n",
       "      <td>[음식/요리/레시피]</td>\n",
       "      <td>188770000</td>\n",
       "      <td>84</td>\n",
       "    </tr>\n",
       "    <tr>\n",
       "      <th>7</th>\n",
       "      <td>[미분류]</td>\n",
       "      <td>105880000</td>\n",
       "      <td>128</td>\n",
       "    </tr>\n",
       "  </tbody>\n",
       "</table>\n",
       "</div>"
      ],
      "text/plain": [
       "       category  subscriber_sum  subscriber_count\n",
       "12   [음악/댄스/가수]       723570000               170\n",
       "17     [키즈/어린이]       264200000                87\n",
       "2       [TV/방송]       246290000               145\n",
       "11  [음식/요리/레시피]       188770000                84\n",
       "7         [미분류]       105880000               128"
      ]
     },
     "execution_count": 83,
     "metadata": {},
     "output_type": "execute_result"
    }
   ],
   "source": [
    "# 구독자 수를 내림차순으로 정렬\n",
    "pivot_df = pivot_df.sort_values('subscriber_sum', ascending=False)\n",
    "pivot_df.head()"
   ]
  },
  {
   "cell_type": "code",
   "execution_count": 85,
   "id": "d4a5600e",
   "metadata": {},
   "outputs": [
    {
     "data": {
      "image/png": "[encoded data removed]",
      "text/plain": [
       "<Figure size 2160x720 with 1 Axes>"
      ]
     },
     "metadata": {},
     "output_type": "display_data"
    }
   ],
   "source": [
    "plt.figure(figsize = (30,10))\n",
    "plt.pie(pivot_df['subscriber_sum'], labels=pivot_df['category'], autopct = '%1.1f%%')\n",
    "plt.show()"
   ]
  },
  {
   "cell_type": "code",
   "execution_count": null,
   "id": "df8f10aa",
   "metadata": {},
   "outputs": [],
   "source": []
  }
 ],
 "metadata": {
  "kernelspec": {
   "display_name": "Python 3",
   "language": "python",
   "name": "python3"
  },
  "language_info": {
   "codemirror_mode": {
    "name": "ipython",
    "version": 3
   },
   "file_extension": ".py",
   "mimetype": "text/x-python",
   "name": "python",
   "nbconvert_exporter": "python",
   "pygments_lexer": "ipython3",
   "version": "3.8.8"
  }
 },
 "nbformat": 4,
 "nbformat_minor": 5
}
